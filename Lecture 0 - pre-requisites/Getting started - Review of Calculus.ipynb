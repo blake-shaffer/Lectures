{
 "cells": [
  {
   "cell_type": "markdown",
   "metadata": {
    "slideshow": {
     "slide_type": "slide"
    }
   },
   "source": [
    "# Getting started: Review of Calculus"
   ]
  },
  {
   "cell_type": "markdown",
   "metadata": {
    "slideshow": {
     "slide_type": "subslide"
    }
   },
   "source": [
    "Calculus is a big branch of mathematics. If you are taking this course, then you have already taken Calculus I and II. "
   ]
  },
  {
   "cell_type": "markdown",
   "metadata": {
    "slideshow": {
     "slide_type": "fragment"
    }
   },
   "source": [
    "The following is a brief review of concepts needed in the context of Data Science and Machine Learning. For a complete review, please follow the sources provided at the end of this document."
   ]
  },
  {
   "cell_type": "markdown",
   "metadata": {},
   "source": [
    "If there are any concepts in this document that you are unfamiliar or *rusty* about, please review them as soon as possible."
   ]
  },
  {
   "cell_type": "markdown",
   "metadata": {
    "slideshow": {
     "slide_type": "subslide"
    }
   },
   "source": [
    "## Functions and Graphs"
   ]
  },
  {
   "cell_type": "markdown",
   "metadata": {
    "slideshow": {
     "slide_type": "fragment"
    }
   },
   "source": [
    "A **function** consists of a set of inputs, a set of outputs, and a rule for assigning each input to exactly one output. \n",
    "\n",
    "![function](https://openstax.org/resources/2c2546282d046a88ba13631953e931a101974c21)"
   ]
  },
  {
   "cell_type": "markdown",
   "metadata": {
    "slideshow": {
     "slide_type": "fragment"
    }
   },
   "source": [
    "* The set of inputs is called the **domain** of the function. The set of outputs is called the **range** of the function.\n",
    "\n",
    "![DomainRange](https://openstax.org/resources/8fa5606aa4655ac788fcf850e8cb7646c77062da)"
   ]
  },
  {
   "cell_type": "markdown",
   "metadata": {
    "slideshow": {
     "slide_type": "subslide"
    }
   },
   "source": [
    "A general function $f$ with domain $D$, we often use $x$ to denote the input and $y$ to denote the output associated with $x$."
   ]
  },
  {
   "cell_type": "markdown",
   "metadata": {
    "slideshow": {
     "slide_type": "fragment"
    }
   },
   "source": [
    "* When doing so, we refer to $x$ as the **independent variable** and $y$ as the **dependent variable**, because it depends on $x$. Using function notation, we write \n",
    "$$y=f(x),$$\n",
    "and we read this equation as *$y$ equals $f$ of $x$*."
   ]
  },
  {
   "cell_type": "markdown",
   "metadata": {
    "slideshow": {
     "slide_type": "fragment"
    }
   },
   "source": [
    "Typically, a function is represented using one or more of the following tools:\n",
    "\n",
    "* A table\n",
    "* A graph\n",
    "* An algebraic formula"
   ]
  },
  {
   "cell_type": "markdown",
   "metadata": {
    "slideshow": {
     "slide_type": "subslide"
    }
   },
   "source": [
    "### Combining Functions\n",
    "\n",
    "We can create a new function by composing two functions. Consider the functions $f(x) = 3x+1$ and $g(x) = x^2$:"
   ]
  },
  {
   "cell_type": "markdown",
   "metadata": {
    "slideshow": {
     "slide_type": "fragment"
    }
   },
   "source": [
    "* The **sum** function: $(f+g)(x) = f(x) + g(x) = x^2 + 3x+1$"
   ]
  },
  {
   "cell_type": "markdown",
   "metadata": {
    "slideshow": {
     "slide_type": "fragment"
    }
   },
   "source": [
    "* The **difference** function: $(f-g)(x) = f(x) - g(x) = -x^2 + 3x+1$"
   ]
  },
  {
   "cell_type": "markdown",
   "metadata": {
    "slideshow": {
     "slide_type": "fragment"
    }
   },
   "source": [
    "* The **product** function: $(f\\cdot g)(x)=f(x)g(x) = x^2(3x+1)$"
   ]
  },
  {
   "cell_type": "markdown",
   "metadata": {
    "slideshow": {
     "slide_type": "fragment"
    }
   },
   "source": [
    "* The **quotient** function: $\\left(\\frac{f}{g}\\right)(x) = \\frac{f(x)}{g(x)}\\text{ for } g(x)\\neq 0 = \\frac{3x+1}{x^2}$ "
   ]
  },
  {
   "cell_type": "markdown",
   "metadata": {
    "slideshow": {
     "slide_type": "fragment"
    }
   },
   "source": [
    "* The **composite** function: $(f\\circ g)(x) = f(g(x)) = f(x^2) = 3x^2 + 1$"
   ]
  },
  {
   "cell_type": "markdown",
   "metadata": {
    "slideshow": {
     "slide_type": "subslide"
    }
   },
   "source": [
    "## Linear Function\n",
    "\n",
    "**Linear functions** have the form: \n",
    "\n",
    "$$y = mx + b,$$\n",
    "\n",
    "where $a$ and $b$ are constants."
   ]
  },
  {
   "cell_type": "markdown",
   "metadata": {
    "slideshow": {
     "slide_type": "fragment"
    }
   },
   "source": [
    "A linear function is defined by its slope, $m$ and y-intercept, $b$."
   ]
  },
  {
   "cell_type": "markdown",
   "metadata": {
    "slideshow": {
     "slide_type": "subslide"
    }
   },
   "source": [
    "For example, consider $y = 3x+1$:\n",
    "\n",
    "* The function $y$ describes a **line** with **slope** $m=3$. \n",
    "    * The slope measures both the steepness and the direction of a line."
   ]
  },
  {
   "cell_type": "markdown",
   "metadata": {
    "slideshow": {
     "slide_type": "fragment"
    }
   },
   "source": [
    "* The function's y-**intercept** is equal to $b=1$."
   ]
  },
  {
   "cell_type": "markdown",
   "metadata": {
    "slideshow": {
     "slide_type": "fragment"
    }
   },
   "source": [
    "The **standard form of a line** is given by the equation:\n",
    "\n",
    "$$ax+by = c,$$\n",
    "\n",
    "where $a$ and $b$ are both not zero. This form is more general because it allows for a vertical line, $x=k$."
   ]
  },
  {
   "cell_type": "markdown",
   "metadata": {
    "slideshow": {
     "slide_type": "subslide"
    }
   },
   "source": [
    "### Polynomials\n",
    "\n",
    "A linear function is a special type of a more general class of functions: polynomials. A polynomial function is any function that can be written in the form\n",
    "\n",
    "$$f(x) = a_n x^n + a_{n-1}x^{n-1} + \\dots + a_1 x + a_0$$\n",
    "\n",
    "for some integer $n\\geq 0$ and constants $a_n,a_{n-1},\\dots,a_0$, where $a_n\\neq 0$."
   ]
  },
  {
   "cell_type": "markdown",
   "metadata": {
    "slideshow": {
     "slide_type": "fragment"
    }
   },
   "source": [
    "* The value $n$ is called the **degree** (or **order**)."
   ]
  },
  {
   "cell_type": "markdown",
   "metadata": {
    "slideshow": {
     "slide_type": "fragment"
    }
   },
   "source": [
    "* A polynomial function of degree 2 is called a **quadratic function**: $f(x) = ax^2 + bx + c$, where $a\\neq 0$."
   ]
  },
  {
   "cell_type": "markdown",
   "metadata": {
    "slideshow": {
     "slide_type": "fragment"
    }
   },
   "source": [
    "* A polynomial function of degree 3 is called a **cubic function**."
   ]
  },
  {
   "cell_type": "markdown",
   "metadata": {
    "slideshow": {
     "slide_type": "subslide"
    }
   },
   "source": [
    "### Finding Zeros\n",
    "\n",
    "The solutions $x'$ that solve the equation $f(x')=0$ are called **zeros** because they intersect the $x$-axis."
   ]
  },
  {
   "cell_type": "markdown",
   "metadata": {
    "slideshow": {
     "slide_type": "fragment"
    }
   },
   "source": [
    "The zeros of the quadratic equation $f(x) = ax^2+bx+c$ where $a\\neq 0$ are given by the quadratic formula\n",
    "\n",
    "$$x = \\frac{-b \\pm \\sqrt{b^2 - 4ac}}{2a}$$"
   ]
  },
  {
   "cell_type": "markdown",
   "metadata": {
    "slideshow": {
     "slide_type": "subslide"
    }
   },
   "source": [
    "### Mathematical Models\n",
    "\n",
    "In engineering, we often describe a large variety of real-world situations using **mathematical models**."
   ]
  },
  {
   "cell_type": "markdown",
   "metadata": {
    "slideshow": {
     "slide_type": "fragment"
    }
   },
   "source": [
    "* A mathematical model is a method of simulating real-life situations with mathematical equations."
   ]
  },
  {
   "cell_type": "markdown",
   "metadata": {
    "slideshow": {
     "slide_type": "fragment"
    }
   },
   "source": [
    "* Models are useful because they help predict future outcomes. Examples of mathematical models include the study of population dynamics, investigations of weather patterns, and predictions of product sales."
   ]
  },
  {
   "cell_type": "markdown",
   "metadata": {
    "slideshow": {
     "slide_type": "subslide"
    }
   },
   "source": [
    "## Trigonometric functions \n",
    "\n",
    "Trigonometric functions are used to model many phenomena, including sound waves, vibrations of strings, alternating electrical current, and the motion of pendulums."
   ]
  },
  {
   "cell_type": "markdown",
   "metadata": {
    "cell_style": "split",
    "slideshow": {
     "slide_type": "fragment"
    }
   },
   "source": [
    "We first consider the *unit circle* centered at the *origin* and a point $P=(x,y)$ on the unit circle. Let $\\theta$ be an angle between the positive $x$-axis and with the line segment OP.\n",
    "\n",
    "![radians](https://openstax.org/resources/37bf229a7e11effb13bdc8d19f81551ba5a89038)"
   ]
  },
  {
   "cell_type": "markdown",
   "metadata": {
    "cell_style": "split",
    "slideshow": {
     "slide_type": "fragment"
    }
   },
   "source": [
    "* $\\sin\\theta = y$\n",
    "\n",
    "* $\\cos\\theta = x$\n",
    "\n",
    "* $\\tan\\theta = \\frac{y}{x}$\n",
    "\n",
    "* $\\csc\\theta = \\frac{1}{y}$\n",
    "\n",
    "* $\\sec\\theta = \\frac{1}{x}$\n",
    "\n",
    "* $\\cot\\theta = \\frac{x}{y}$"
   ]
  },
  {
   "cell_type": "markdown",
   "metadata": {
    "slideshow": {
     "slide_type": "subslide"
    }
   },
   "source": [
    "On a circle of radius $r$ with a corresponding angle $\\theta$, the coordinates $x$ and $y$ satisfy:\n",
    "\n",
    "$$\\cos\\theta=\\frac{x}{r}$$\n",
    "\n",
    "$$x=r\\cos\\theta$$\n",
    "\n",
    "and\n",
    "\n",
    "$$\\sin\\theta=\\frac{y}{r}$$\n",
    "\n",
    "$$y=r\\sin\\theta$$"
   ]
  },
  {
   "cell_type": "markdown",
   "metadata": {
    "slideshow": {
     "slide_type": "subslide"
    }
   },
   "source": [
    "### Inverse functions\n",
    "\n",
    "An inverse function reverses the operation done by a particular function.\n",
    "\n",
    "![inverse](https://openstax.org/resources/2f3699c6ec950e350ec665403745460a4e11e734)\n",
    "\n",
    "Given a function $f$ and an output $y=f(x)$, we are often interested in finding what value or values $x$ were mapped to $y$ by $\n",
    "f$. We denote the **inverse function** as $f^{-1}$."
   ]
  },
  {
   "cell_type": "markdown",
   "metadata": {
    "slideshow": {
     "slide_type": "fragment"
    }
   },
   "source": [
    "* We say that the $f$ is a **one-to-one function** (or **injective function**) if $f(x_1)\\neq f(x_2)$ where $x_1\\neq x_2$."
   ]
  },
  {
   "cell_type": "markdown",
   "metadata": {
    "slideshow": {
     "slide_type": "subslide"
    }
   },
   "source": [
    "### Exponential and Logarithmic Functions\n",
    "\n",
    "Any function of the form $$f(x) = b^x,$$ \n",
    "\n",
    "where $b>0, b\\neq 1$, is an **exponential function** with **base** $b$ and **exponent** $x$.\n",
    "\n",
    "* The exponential $f(x)=b^x$ is one-to-one, with domain $(-\\infty,\\infty)$ and range $(0,\\infty)$."
   ]
  },
  {
   "cell_type": "markdown",
   "metadata": {
    "slideshow": {
     "slide_type": "fragment"
    }
   },
   "source": [
    "* We call the function $$f(x) = e^x$$ the **natural exponential function**, where the **number** $e\\approx 2.718282$."
   ]
  },
  {
   "cell_type": "markdown",
   "metadata": {
    "slideshow": {
     "slide_type": "subslide"
    }
   },
   "source": [
    "* The **logarithmic function** with base $b$ is the inverse function of the exponential function\n",
    "\n",
    "* For any $b>0, b\\neq 1$, the logarithmic function with base $b$ is defined as $$y = \\log_b (x)$$\n",
    "\n",
    "with domain $(0,\\infty)$ and range $(-\\infty, \\infty)$."
   ]
  },
  {
   "cell_type": "markdown",
   "metadata": {
    "slideshow": {
     "slide_type": "fragment"
    }
   },
   "source": [
    "* The **natural logarithmic function** with base $e$ is the inverse function of the natural exponential function\n",
    "\n",
    "$$y = \\log_e(x) = \\ln(x)$$"
   ]
  },
  {
   "cell_type": "markdown",
   "metadata": {
    "slideshow": {
     "slide_type": "subslide"
    }
   },
   "source": [
    "### Limits\n",
    "\n",
    "Let $f(x)$ be a function defined at all values in an open interval containing $a$,, with the possible exception of $a$ itself, and let $L$ be a real number.\n",
    "\n",
    "If all values of the function $f(x)$ approach the real number $L$ as the values of $x$ ($\\neq a$) approach the number $a$, then we say that the limit of $f(x)$ as $x$ approaches a is $L$.\n",
    "\n",
    "Symbolically, we express this idea as\n",
    "\n",
    "$$\\lim\\limits_{x\\rightarrow a} f(x) = L$$"
   ]
  },
  {
   "cell_type": "markdown",
   "metadata": {
    "slideshow": {
     "slide_type": "subslide"
    }
   },
   "source": [
    "### Continuity\n",
    "\n",
    "A function $f(x)$ is **continuous at a point** $a$ if and only if the following three conditions are satisfied:\n",
    "\n",
    "1. $f(a)$ is defined\n",
    "\n",
    "2. $\\lim\\limits_{x\\rightarrow a} f(x)$ exists\n",
    "\n",
    "3. $\\lim\\limits_{x\\rightarrow a} f(x) = f(a)$\n",
    "\n",
    "A function is **discontinuous at a point** $a$ if it fails to be continuous at $a$."
   ]
  },
  {
   "cell_type": "markdown",
   "metadata": {
    "slideshow": {
     "slide_type": "subslide"
    }
   },
   "source": [
    "#### Types of Discontinuities\n",
    "\n",
    "![discontinuities](https://openstax.org/resources/bbedfbc9abd13801b9da8dd62b424bb5c39768d4)"
   ]
  },
  {
   "cell_type": "markdown",
   "metadata": {
    "slideshow": {
     "slide_type": "subslide"
    }
   },
   "source": [
    "### Tangent Line\n",
    "\n",
    "Let $f(x)$ be a function defined in an open interval containing $a$. The **tangent line** to $f(x)$ at $a$ is the line passing through the point $(a,f(a))$ having slope\n",
    "\n",
    "$$m_{\\text{tan}}=\\lim\\limits_{x\\rightarrow a} \\frac{f(x)-f(a)}{x-a}$$\n",
    "\n",
    "Equivalently, we may define the tangent line to $f(x)$ at $a$ to be the line passing through the point $(a,f(a))$ having slope\n",
    "\n",
    "$$m_{\\text{tan}}=\\lim\\limits_{h\\rightarrow 0} \\frac{f(a+h)-f(a)}{h}$$\n",
    "\n",
    "provided this limit exists."
   ]
  },
  {
   "cell_type": "markdown",
   "metadata": {
    "slideshow": {
     "slide_type": "subslide"
    }
   },
   "source": [
    "## Derivative\n",
    "\n",
    "Let $f(x)$ be a function defined in an open interval containing $a$. The **derivative of the function $f(x)$ at $a$**, denoted by $f'(a)$, is defined by\n",
    "\n",
    "$$f'(a) = \\lim\\limits_{x\\rightarrow a} \\frac{f(x)-f(a)}{x-a}$$\n",
    "\n",
    "Alternatively, we may also define the **derivative of $f(x)$ at $a$** as\n",
    "\n",
    "$$f'(a) = \\lim\\limits_{h\\rightarrow 0} \\frac{f(a+h)-f(a)}{h}$$\n",
    "\n",
    "provided this limit exists."
   ]
  },
  {
   "cell_type": "markdown",
   "metadata": {
    "slideshow": {
     "slide_type": "subslide"
    }
   },
   "source": [
    "For $y=f(x)$, each of the following notations represents the derivative of $f(x)$:\n",
    "\n",
    "$$f'(x), \\frac{dy}{dx}, y', \\frac{d}{dx}\\left(f(x)\\right)$$"
   ]
  },
  {
   "cell_type": "markdown",
   "metadata": {
    "slideshow": {
     "slide_type": "fragment"
    }
   },
   "source": [
    "* The **instantaneous rate of change** (or instantaneous velocity) of a function $f(x)$ at a value $a$ is its derivative:\n",
    "$$v_{\\text{inst}}=\\lim\\limits_{x\\rightarrow a} \\frac{f(x)-f(a)}{x-a}$$"
   ]
  },
  {
   "cell_type": "markdown",
   "metadata": {
    "slideshow": {
     "slide_type": "fragment"
    }
   },
   "source": [
    "* The **average rate of change** (average velocity) over an interval $[a,x]$ if $x>a$ or $[x,a]$ if $x<a$ is given by the different quotient\n",
    "\n",
    "$$v_{\\text{ave}} =\\frac{f(x)-f(a)}{x-a}$$ "
   ]
  },
  {
   "cell_type": "markdown",
   "metadata": {
    "slideshow": {
     "slide_type": "subslide"
    }
   },
   "source": [
    "### Differentiation Rules\n",
    "\n",
    "There are a few differentiation rules, including:\n",
    "\n",
    "* The Constant Rule\n",
    "* The Power Rule\n",
    "* The Sum, Difference, and Constant Multiple Rules\n",
    "* The Product Rule\n",
    "* The Quotient Rule\n",
    "\n",
    "For definitions, please visit [this section](https://openstax.org/books/calculus-volume-1/pages/3-3-differentiation-rules)."
   ]
  },
  {
   "cell_type": "markdown",
   "metadata": {
    "slideshow": {
     "slide_type": "subslide"
    }
   },
   "source": [
    "### The Chain Rule\n",
    "\n",
    "Let $f$ and $g$ be functions. For all $x$ in the domain of $g$ for which $g$ is differentiable at $x$ and $f$ is differentiable at $g(x)$, the derivative of the composite function\n",
    "\n",
    "$$h(x) = (f\\circ g)(x) = f\\left(g(x)\\right)$$\n",
    "\n",
    "is given by\n",
    "\n",
    "$$h'(x) = f'(g(x))g'(x).$$\n",
    "\n",
    "Alternatively, if $y$ is a function of $u$, and $u$ is a function of $x$, then\n",
    "\n",
    "<div class=\"alert alert-info\" role=\"alert\">\n",
    "  $$\\frac{dy}{dx} = \\frac{dy}{du}\\cdot\\frac{du}{dx}$$\n",
    "</div>"
   ]
  },
  {
   "cell_type": "markdown",
   "metadata": {
    "slideshow": {
     "slide_type": "subslide"
    }
   },
   "source": [
    "### Some applications of Derivatives\n",
    "\n",
    "1. **Linear Approximations of a Function at a Point**\n",
    "\n",
    "In general, for a differentiable function $f$, the equation of the tangent line to $f$ at $x=a$ ($y = f(a) + f'(a)(x-a)$) can be used to approximate $f(x)$ for $x near $a$:\n",
    "\n",
    "$$f(x) \\approx f(a) + f'(a)(x-a)$$"
   ]
  },
  {
   "cell_type": "markdown",
   "metadata": {
    "slideshow": {
     "slide_type": "fragment"
    }
   },
   "source": [
    "2. **Critical points**\n",
    "\n",
    "Let $c$ be an interior point in the domain of $f$. We say that $c$ is a **critical point** of $f$ if $f'(c)=0$ or $f'(c)$ is undefined.\n",
    "\n",
    "![extremum](https://openstax.org/resources/a60e8cf30409df9c4c687f5fcde44a2584ce2864)"
   ]
  },
  {
   "cell_type": "markdown",
   "metadata": {
    "slideshow": {
     "slide_type": "subslide"
    }
   },
   "source": [
    "3. **Rolle's Theorem**\n",
    "\n",
    "Let $f$ be a continuous function over the closed interval $[a,b]$ and differentiable over the open interval $(a,b)$ such that $f(a)=f(b)$. There then exists at least one $c\\in (a,b)$ such that $f'(c)=0$.\n",
    "\n",
    "![MeanValueTheorem](https://openstax.org/resources/9f7150213d442c25a178dfa4522641987a7eefcc)"
   ]
  },
  {
   "cell_type": "markdown",
   "metadata": {
    "slideshow": {
     "slide_type": "subslide"
    }
   },
   "source": [
    "4. **Newton's Method**\n",
    "\n",
    "It's an algorithm to approximate solutions of $f(x)=0$."
   ]
  },
  {
   "cell_type": "markdown",
   "metadata": {
    "cell_style": "split",
    "slideshow": {
     "slide_type": "fragment"
    }
   },
   "source": [
    "![NewtonsMethod](https://openstax.org/resources/03a495b2b2b3d4dfa2b027fccdae44d1aba527a1)"
   ]
  },
  {
   "cell_type": "markdown",
   "metadata": {
    "cell_style": "split",
    "slideshow": {
     "slide_type": "fragment"
    }
   },
   "source": [
    "The equation of this tangent line is $y = f(x_0) + f'(x_0)(x-x_0)$\n",
    "\n",
    "Therefore, $x_1$ must satisfy: $f(x_0) + f'(x_0)(x_1-x_0) = 0$, then $x_1 = x_0 - \\frac{f(x_0)}{f'(x_0)}$\n",
    "\n",
    "In general, for $n>0$, $x_n$ satisfies\n",
    "\n",
    "$$x_n = x_{n-1} - \\frac{f(x_{n-1})}{f'(x_{n-1})}$$"
   ]
  },
  {
   "cell_type": "markdown",
   "metadata": {
    "cell_style": "center",
    "slideshow": {
     "slide_type": "subslide"
    }
   },
   "source": [
    "### Approximating Areas\n",
    "\n",
    "![AUC](https://openstax.org/resources/ece0643b4b0521f672d9c7d8671b95ed51418e9d)\n",
    "\n",
    "How do we approximate the area under this curve? The approach is a geometric one. By dividing a region into many small shapes that have known area formulas, we can sum these areas and obtain a reasonable estimate of the true area. \n",
    "\n",
    "Denote the width of each subinterval as $\\Delta x = \\frac{b-a}{n}$."
   ]
  },
  {
   "cell_type": "markdown",
   "metadata": {
    "cell_style": "split",
    "slideshow": {
     "slide_type": "subslide"
    }
   },
   "source": [
    "1. **Left-endpoint approximation**\n",
    "\n",
    "![leftApp](https://openstax.org/resources/b8744a12877aa8d817a700ae3dfddb5fbfc0f4b7)"
   ]
  },
  {
   "cell_type": "markdown",
   "metadata": {
    "cell_style": "split",
    "slideshow": {
     "slide_type": "fragment"
    }
   },
   "source": [
    "2. **Right-endpoint approximation**\n",
    "\n",
    "![rightApp](https://openstax.org/resources/1beb274f0ec267d800c5850bb6540f4e54e44a15)"
   ]
  },
  {
   "cell_type": "markdown",
   "metadata": {
    "slideshow": {
     "slide_type": "fragment"
    }
   },
   "source": [
    "**Left-endpoint approximation:** $A \\approx f(x_0)\\Delta x + f(x_1)\\Delta x + \\dots + f(x_{n-1}) \\Delta x = \\sum_{i=1}^n f(x_{i-1}) \\Delta x$\n",
    "\n",
    "**Right-endpoint approximation:** $A \\approx f(x_1)\\Delta x + f(x_2)\\Delta x + \\dots + f(x_n) \\Delta x = \\sum_{i=1}^n f(x_i) \\Delta x$\n",
    "\n",
    "In both cases, these are called **Riemann sums**."
   ]
  },
  {
   "cell_type": "markdown",
   "metadata": {
    "slideshow": {
     "slide_type": "subslide"
    }
   },
   "source": [
    "### Area under the Curve (AUC)\n",
    "\n",
    "Let $f(x)$ be a continuous, nonnegative function on an interval $[a,b]$, and let $\\sum_{i=1}^n f(x_i^*) \\Delta x$ be a Riemmann sum for $f(x)$. The, the **area under th curve** $y=f(x)$ on $[a,b]$ is given by\n",
    "\n",
    "$$A = \\lim\\limits_{n\\rightarrow\\infty} \\sum_{i=1}^n f(x_i^*)\\Delta x$$"
   ]
  },
  {
   "cell_type": "markdown",
   "metadata": {
    "slideshow": {
     "slide_type": "subslide"
    }
   },
   "source": [
    "## Definite Integral\n",
    "\n",
    "If $f(x)$ is a function defined on an interval $[a,b]$, the **definite integral** of $f$ from $a$ to $b$ is given by\n",
    "\n",
    "$$\\int_a^b f(x) dx = \\lim\\limits_{b\\rightarrow\\infty}\\sum_{i=1}^n f(x_i^*)\\Delta x$$\n",
    "\n",
    "provided the limit exists. If this limit exists, the function $f(x)$ is said to be **integrable** on $[a,b]$, or is an integrable function."
   ]
  },
  {
   "cell_type": "markdown",
   "metadata": {
    "slideshow": {
     "slide_type": "fragment"
    }
   },
   "source": [
    "* Continuous functions are integrable."
   ]
  },
  {
   "cell_type": "markdown",
   "metadata": {
    "slideshow": {
     "slide_type": "subslide"
    }
   },
   "source": [
    "### Fundamental Theorem of Calculus\n",
    "\n",
    "(It establishes the relationship between differentiation and integration.)\n",
    "\n",
    "If $f(x)$ is continuous over an interval $[a,b]$, and the function $F(x)$ is defined by\n",
    "\n",
    "$$F(x) = \\int_a^x f(t) dt,$$\n",
    "\n",
    "then $F'(x) = f(x)$ over $[a,b]$."
   ]
  },
  {
   "cell_type": "markdown",
   "metadata": {
    "slideshow": {
     "slide_type": "subslide"
    }
   },
   "source": [
    "### The Evaluation Theorem \n",
    "\n",
    "If $f$ is continuous over the interval $[a,b]$ and $F(x)$ is any antiderivative of $f(x)$, then\n",
    "\n",
    "$$\\int_a^b f(x) dx = F(b) - F(a)$$"
   ]
  },
  {
   "cell_type": "markdown",
   "metadata": {
    "slideshow": {
     "slide_type": "fragment"
    }
   },
   "source": [
    "We often see the notation $F(x)|_a^b$ to denote $F(b) - F(a)$.\n",
    "\n",
    "Note: The indefinite integral without bounds represents an antiderivative."
   ]
  },
  {
   "cell_type": "markdown",
   "metadata": {
    "slideshow": {
     "slide_type": "subslide"
    }
   },
   "source": [
    "### The Net Change Theorem\n",
    "\n",
    "The new value of a changing quantity equals the initial value plus the integral of the **rate of change**:\n",
    "\n",
    "$$F(b) = F(a) + \\int_a^b F'(x) dx$$\n",
    "\n",
    "$$\\text{or}$$  \n",
    "\n",
    "$$\\int_a^b F'(x) dx = F(b) - F(a)$$"
   ]
  },
  {
   "cell_type": "markdown",
   "metadata": {
    "cell_style": "center",
    "slideshow": {
     "slide_type": "subslide"
    }
   },
   "source": [
    "### Applications of Integration\n",
    "\n",
    "1. **Area between two curves**"
   ]
  },
  {
   "cell_type": "markdown",
   "metadata": {
    "cell_style": "split",
    "slideshow": {
     "slide_type": "fragment"
    }
   },
   "source": [
    "![area_between_curves](https://openstax.org/resources/6887bfb9acfdd744947bda1fc671dabe2a7e8f62)"
   ]
  },
  {
   "cell_type": "markdown",
   "metadata": {
    "cell_style": "split",
    "slideshow": {
     "slide_type": "fragment"
    }
   },
   "source": [
    "Let $f(x)$ and $g(x)$ be continuous functions such that $f(x)\\geq g(x)$ over an interval $[a,b]$. Let $R$ denote the region bounded above by the graph of $f(x)$, below by the graph of $g(x)$, and on the left and right by the lines $x=a$ and $x=b$, respectively. Then, the area of $R$ is given by\n",
    "\n",
    "$$A = \\int_a^b \\left(f(x) - g(x)\\right) dx$$"
   ]
  },
  {
   "cell_type": "markdown",
   "metadata": {
    "slideshow": {
     "slide_type": "subslide"
    }
   },
   "source": [
    "2. **Arc Length of a Curve $y=f(x)$**\n",
    "\n",
    "Let $f(x)$ be a smooth function over the interval $[a,b]$. Then the arc length of the portion of the graph of $f(x)$ from the point $(a,f(a))$ to the point $(b,f(b))$ is given by\n",
    "\n",
    "$$\\text{Arc Length} = \\int_a^b \\sqrt{1 + \\left(f'(x)\\right)^2} dx $$\n",
    "\n",
    "\n",
    "3. and many more."
   ]
  },
  {
   "cell_type": "markdown",
   "metadata": {
    "slideshow": {
     "slide_type": "subslide"
    }
   },
   "source": [
    "## Parametric Equations\n",
    "\n",
    "If $x$ and $y$ are continuous functions of $t$ on an interval $I$, then the equations\n",
    "\n",
    "$$x = x(t) \\text{ and } y=y(t)$$\n",
    "\n",
    "are called **parametric equations** and $t$ is called a **parameter**. The set of points $(x,y)$ obtained as $t$ varies over the interval $I$ is called the graph of the parametric equations. The graph of parametric equations is called a **parametric curve** or plane curve, and is denoted by $C$."
   ]
  },
  {
   "cell_type": "markdown",
   "metadata": {
    "slideshow": {
     "slide_type": "fragment"
    }
   },
   "source": [
    "* In many Data Science and Machine Learning applications, we seek to find such parametrization."
   ]
  },
  {
   "cell_type": "markdown",
   "metadata": {
    "slideshow": {
     "slide_type": "subslide"
    }
   },
   "source": [
    "**Derivative of Parametric Equations**\n",
    "\n",
    "Consider the plane curve defined by the parametric equations $x=x(t)$ and $y=y(t)$. Suppose that $x'(t)$ and $y'(t)$ exist, and assume that $x'(t)\\neq 0$. Then the derivative $\\frac{dy}{dx}$ is given by\n",
    "\n",
    "$$\\frac{dy}{dx} = \\frac{dy/dt}{dx/dt} = \\frac{y'(t)}{x'(t)}$$"
   ]
  },
  {
   "cell_type": "markdown",
   "metadata": {
    "slideshow": {
     "slide_type": "subslide"
    }
   },
   "source": [
    "**Second-order derivatives of Parametric Equations**\n",
    "\n",
    "The second derivative of a function $y=f(x)$ is defined to be the derivative of the first derivative; that is,\n",
    "\n",
    "$$\\frac{d^2y}{dx^2} = \\frac{d}{dx}\\left[\\frac{dy}{dx}\\right].$$"
   ]
  },
  {
   "cell_type": "markdown",
   "metadata": {
    "slideshow": {
     "slide_type": "subslide"
    }
   },
   "source": [
    "**Area under Parametric Curve**\n",
    "\n",
    "Consider the non-self-intersecting plane curve defined by the parametric equations\n",
    "\n",
    "$$x=x(t), y=y(t), a\\leq t\\leq b$$\n",
    "\n",
    "and assume that $x(t)$ is differentiable. The area under this curve is given by\n",
    "\n",
    "$$A = \\int_a^b y(t) x'(t) dt$$"
   ]
  },
  {
   "cell_type": "markdown",
   "metadata": {
    "slideshow": {
     "slide_type": "subslide"
    }
   },
   "source": [
    "## Further review\n",
    "\n",
    "If you are interested in reviewing these topics further, I recommend: \n",
    "\n",
    "* 3Blue1Brown, \"Essence of Calculus\" YouTube series, [link](https://www.youtube.com/watch?v=WUvTyaaNkzM&list=PLZHQObOWTQDMsr9K-rj53DwVRMYO3t5Yr)\n",
    "\n",
    "* \"Calculus Volume 1\" book, [available online](https://openstax.org/details/books/calculus-volume-1)\n",
    "\n",
    "* \"Calculus Volume 2\" book, [available online](https://openstax.org/details/books/calculus-volume-2)\n",
    "\n",
    "* Gilbert Strang, 18.005 MITOpenCourseWare \"Highlights of Calculus\", [link](https://ocw.mit.edu/resources/res-18-005-highlights-of-calculus-spring-2010/)\n",
    "\n",
    "\n",
    "(The images in this notebook were copied from \"Calculus Volume 1\" and \"Calculus Volume 2\" books.)"
   ]
  },
  {
   "cell_type": "code",
   "execution_count": null,
   "metadata": {},
   "outputs": [],
   "source": []
  }
 ],
 "metadata": {
  "kernelspec": {
   "display_name": "Python 3",
   "language": "python",
   "name": "python3"
  },
  "language_info": {
   "codemirror_mode": {
    "name": "ipython",
    "version": 3
   },
   "file_extension": ".py",
   "mimetype": "text/x-python",
   "name": "python",
   "nbconvert_exporter": "python",
   "pygments_lexer": "ipython3",
   "version": "3.7.7"
  },
  "latex_envs": {
   "LaTeX_envs_menu_present": true,
   "autoclose": false,
   "autocomplete": true,
   "bibliofile": "biblio.bib",
   "cite_by": "apalike",
   "current_citInitial": 1,
   "eqLabelWithNumbers": true,
   "eqNumInitial": 1,
   "hotkeys": {
    "equation": "Ctrl-E",
    "itemize": "Ctrl-I"
   },
   "labels_anchors": false,
   "latex_user_defs": false,
   "report_style_numbering": false,
   "user_envs_cfg": false
  },
  "varInspector": {
   "cols": {
    "lenName": 16,
    "lenType": 16,
    "lenVar": 40
   },
   "kernels_config": {
    "python": {
     "delete_cmd_postfix": "",
     "delete_cmd_prefix": "del ",
     "library": "var_list.py",
     "varRefreshCmd": "print(var_dic_list())"
    },
    "r": {
     "delete_cmd_postfix": ") ",
     "delete_cmd_prefix": "rm(",
     "library": "var_list.r",
     "varRefreshCmd": "cat(var_dic_list()) "
    }
   },
   "types_to_exclude": [
    "module",
    "function",
    "builtin_function_or_method",
    "instance",
    "_Feature"
   ],
   "window_display": false
  }
 },
 "nbformat": 4,
 "nbformat_minor": 4
}
