{
 "cells": [
  {
   "cell_type": "markdown",
   "metadata": {
    "slideshow": {
     "slide_type": "slide"
    }
   },
   "source": [
    "# Lecture 1 - Introduction to Machine Learning"
   ]
  },
  {
   "cell_type": "markdown",
   "metadata": {
    "slideshow": {
     "slide_type": "subslide"
    }
   },
   "source": [
    "## What is Machine Learning?"
   ]
  },
  {
   "cell_type": "markdown",
   "metadata": {
    "slideshow": {
     "slide_type": "subslide"
    }
   },
   "source": [
    "<div><img src=\"figures/ML.png\", width=\"800\"><!div>"
   ]
  },
  {
   "cell_type": "markdown",
   "metadata": {
    "slideshow": {
     "slide_type": "subslide"
    }
   },
   "source": [
    "Maybe we should ask what the differences are between:\n",
    "* Artificial Intelligence (AI)\n",
    "* Machine Learning (ML)\n",
    "* Deep Learning (DL)"
   ]
  },
  {
   "cell_type": "markdown",
   "metadata": {
    "slideshow": {
     "slide_type": "subslide"
    }
   },
   "source": [
    "**Machine Learning** is a subset of Artificial Intelligence.\n",
    "\n",
    "Put succinctly it can be defined as: machine general ability to solve *intelligent* tasks by learning from experience/data without being explicitly programmed."
   ]
  },
  {
   "cell_type": "markdown",
   "metadata": {
    "cell_style": "center",
    "slideshow": {
     "slide_type": "subslide"
    }
   },
   "source": [
    "![AIvsMLvsDL](https://i.stack.imgur.com/mbif4.png)"
   ]
  },
  {
   "cell_type": "markdown",
   "metadata": {
    "slideshow": {
     "slide_type": "subslide"
    }
   },
   "source": [
    "### Wait, Machine Learning and Artificial Intelligence aren't the same?\n",
    "\n",
    "AI and ML are not the same thing!\n",
    "\n",
    "* But there is a lot of overlap in what machine learning does and what an AI does."
   ]
  },
  {
   "cell_type": "markdown",
   "metadata": {
    "slideshow": {
     "slide_type": "subslide"
    }
   },
   "source": [
    "### Can you think of any AI that is not ML?"
   ]
  },
  {
   "cell_type": "markdown",
   "metadata": {
    "slideshow": {
     "slide_type": "subslide"
    }
   },
   "source": [
    "## What tools will we use to perform Machine Learning?\n",
    "\n",
    "<div><img src=\"figures/tools.png\", width=\"800\"><!div>"
   ]
  },
  {
   "cell_type": "markdown",
   "metadata": {
    "cell_style": "center",
    "slideshow": {
     "slide_type": "subslide"
    }
   },
   "source": [
    "## Why should you care?\n",
    "\n",
    "According to [LinkedIn's 2020 Emerging Jobs report](https://business.linkedin.com/content/dam/me/business/en-us/talent-solutions/emerging-jobs-report/Emerging_Jobs_Report_U.S._FINAL.pdf):\n",
    "\n",
    "![TopEmergingJobs](https://www.c-sharpcorner.com/article/top-10-emerging-jobs-in-the-u-s-for-2020/Images/Top%2010%20Emerging%20Jobs%20In%20The%20U.S.%20For%202020.png)"
   ]
  },
  {
   "cell_type": "markdown",
   "metadata": {
    "cell_style": "split",
    "slideshow": {
     "slide_type": "subslide"
    }
   },
   "source": [
    "[UF-NVIDIA Partnership](https://news.ufl.edu/2020/07/nvidia-partnership/)\n",
    "\n",
    "![UFandNVidia](https://pbs.twimg.com/media/EdgdhV2U8AAjKi6.jpg:large)\n",
    "\n",
    "<h4 align=\"center\">Thanks to ECE alumnus Chris Malachowsky!</h4>"
   ]
  },
  {
   "cell_type": "markdown",
   "metadata": {
    "cell_style": "split",
    "slideshow": {
     "slide_type": "subslide"
    }
   },
   "source": [
    "Upgrading HiPerGator to version 3.0 with cutting-edge [NVIDIA DGX A100](https://www.nvidia.com/en-us/data-center/dgx-a100/) AI system.\n",
    "\n",
    "![HiPerGator3.0](https://news.it.ufl.edu/wp-content/uploads/2020/07/IMG_1134-300x210.jpg)\n",
    "\n",
    "[Source](https://news.it.ufl.edu/research/worlds-most-advanced-ai-system-available-at-uf/)"
   ]
  },
  {
   "cell_type": "markdown",
   "metadata": {
    "slideshow": {
     "slide_type": "subslide"
    }
   },
   "source": [
    "# EEE 4773 - Fundamentals of Machine Learning\n",
    "\n",
    "**Course Description:** (3 credits) Overview of machine intelligence and the role of machine learning in a variety of real-world problems. Probability and statistics to handle uncertain data. Topics covered include learning models from data in both a supervised and unsupervised fashion, linear models and non-linear models for classification, and linear dimensionality reduction.\n",
    "\n",
    "* **<font color=blue>This course relies mostly on foundational Machine Learning math but also programming!</font>**\n",
    "\n",
    "* We will use Python for in-class algorithm experiments, class assignments and final project\n",
    "\n",
    "![DataScienceSoftware](https://i2.wp.com/r4stats.com/wp-content/uploads/2019/05/Fig-1a-IndeedJobs-2019-1.png?w=650)\n",
    "\n",
    "<!--![MLSoftware](https://www.kdnuggets.com/images/top-analytics-data-science-machine-learning-software-2019-3yrs-590.jpg)-->"
   ]
  },
  {
   "cell_type": "markdown",
   "metadata": {},
   "source": [
    "## Instructor\n",
    "\n",
    "**Dr. Catia S. Silva** (preferred Dr. Silva or Prof. Silva)\n",
    "\n",
    "* Office: *my make-up home office* or NEB 467\n",
    "* Phone: (352) 392-6502\n",
    "* Email: catiaspsilva@ece.ufl.edu (email via Canvas is preferred)\n",
    "* [Office hours](https://ufl.instructure.com/courses/404371/pages/office-hours): Tuesdays and Thursdays\n",
    "3:00 PM - 4:00 PM (EST zone) via Zoom"
   ]
  },
  {
   "cell_type": "markdown",
   "metadata": {
    "slideshow": {
     "slide_type": "subslide"
    }
   },
   "source": [
    "## Programming in Python\n",
    "\n",
    "* You are **not** expected to already know Python\n",
    "* However, you do need good basic programming skills to do well in this course\n",
    "* You should also have a solid programming experience in Matlab from EEL 3135:\n",
    "    * Check out: [NumPy for Matlab users](https://numpy.org/doc/stable/user/numpy-for-matlab-users.html)\n",
    "    \n",
    "I have uploaded a video on \"Programming with Python\" for those of you that have not programed with Python. This video introduces the basic syntax and main characteristics of programing in Jupyter Notebook; view it [here](https://ufl.instructure.com/courses/404363/pages/orientation)."
   ]
  },
  {
   "cell_type": "markdown",
   "metadata": {
    "slideshow": {
     "slide_type": "subslide"
    }
   },
   "source": [
    "#### What Python proficiency to expect to learn in this class?\n",
    "\n",
    "The goal of this class is to instruct on Machine Learning fundamentals (models, algorithms and optimization). You will be expected to have substantial programming knowledge to lead **independent study** on programming skills.\n",
    "\n",
    "I will **not** teach you Python during class hours; instead, I will teach you how to use it for visualization, data processing, algorithm implementation, etc.\n",
    "\n",
    "* I **will** provide you with lots of resources and help to get going in Python\n",
    "\n",
    "* I **will** be available during office hours to help you with Python issues"
   ]
  },
  {
   "cell_type": "markdown",
   "metadata": {
    "slideshow": {
     "slide_type": "subslide"
    }
   },
   "source": [
    "## Analytical work\n",
    "\n",
    "Most classes will be focus on presenting Machine learning algorithms and ways to optimize it; this will require you to be proficient in Calculus, Linear Algebra and Probability/Statistics.\n",
    "\n",
    "* I have uploaded to Canvas a Jupyter Notebook with review material up to Calculus II (MAC 2312 or equivalent).\n",
    "* I have uploaded to Canvas a Jupyter Notebook with review material up to Linear Algebra (MAS 3114 or EEL 4930 or equivalent).\n",
    "* I have uploaded to Canvas a Jupyter Notebook with review material up to Probability and Statistics (STA 3032 or equivalent).\n",
    "\n",
    "**Pre-requisite:** MAC 2312 (Calculus 2), EEL 3135 (Introduction to Signals & Systems)"
   ]
  },
  {
   "cell_type": "markdown",
   "metadata": {
    "slideshow": {
     "slide_type": "subslide"
    }
   },
   "source": [
    "## How does a typical lecture looks like?\n",
    "\n",
    "A typical lecture will be presented in Jupyter Notebook with some live coding or running programs available in the notes:\n",
    "\n",
    "* I will publish the class notes (Jupyter notebooks) before every lecture\n",
    "* During class, I may live code or run code examples\n",
    "* I will share the notebook with edits after class\n",
    "* I will use my iPad using the [Explain Everything app](https://explaineverything.com/download/) as a virtual whiteboard\n",
    "* I will share handwritten whiteboard pages after class"
   ]
  },
  {
   "cell_type": "markdown",
   "metadata": {
    "slideshow": {
     "slide_type": "subslide"
    }
   },
   "source": [
    "## Course Objectives (as time allows)\n",
    "\n",
    "Upon completion of this course, the student will be able to:\n",
    "\n",
    "* Identify relevant real-world problems as instances of canonical machine learning problems\n",
    "* Design and implement effective strategies for data preprocessing\n",
    "* Explain and utilize concepts of machine learning for data science and electrical engineering\n",
    "* Compare and contrast evaluation metrics\n",
    "* Foresee and mitigate human-based liabilities of machine learning algorithms\n",
    "* General level of competency in critical questioning and analysis\n",
    "* Students will know how to make connections between different fields of machine learning\n",
    "\n",
    "The main goal of this course is to equip the students with a machine learning mindset for successful practical implementations, in particular: understand, analyze and design an approach to work with a data science or electrical engineering problem."
   ]
  },
  {
   "cell_type": "markdown",
   "metadata": {
    "slideshow": {
     "slide_type": "subslide"
    }
   },
   "source": [
    "## Time commitment\n",
    "\n",
    "We will meet 3 classes/week, 50 minutes each. \n",
    "\n",
    "Sometimes (not every week) I will post additional video recordings to watch before class. I typically keep them short, 20-30 minutes.\n",
    "\n",
    "As a student, I used the *Rule of Four Passes* to determine the time commitment for a course:\n",
    "\n",
    "* Essentially it takes at least four complete passes through your lecture materials from start to finish to be able to retain it for the exam. \n",
    "* The first pass is during lecture time (50 minutes) where you listen, take notes and ask questions. \n",
    "* The second pass goal is to understand the material more deeply, typically you rewrite your in-class notes, find answers to misunderstandings or unanswered questions, and implement coding examples yourself.\n",
    "* The third pass you will rigorously connect the material between lectures by using your notes and coding from pass 2, and will identify important concepts to retain.\n",
    "* The fourth pass is self-review, where you review all material, quiz yourself, practice textbook or previous exams exercises.\n",
    "\n",
    "Expect approximately 4-6 hours/week to study lecture notes, plus additional time for homeworks."
   ]
  },
  {
   "cell_type": "markdown",
   "metadata": {
    "slideshow": {
     "slide_type": "subslide"
    }
   },
   "source": [
    "## Textbooks and Software Required\n",
    "\n",
    "1. **Anaconda Distribution**\n",
    "\n",
    "* with Python 3.8\n",
    "* It includes all libraries, modules and tools we will use: Jupyter notebooks, ```NumPy```, ```Matplotlib```, ```SciPy```, ```Pandas```, ```scikit-learn```, ```random```, ```PyTorch```\n",
    "* Download it [here](https://www.anaconda.com/products/individual)\n",
    "\n",
    "<h5 align=\"center\">Some popular libraries in Anaconda</h5>\n",
    "\n",
    "![Anaconda](https://www.anaconda.com/imager/assetsdo/Products/8031/open-source-logos2x_680db6b6f11f9cc710dd7defae241cd3.png)"
   ]
  },
  {
   "cell_type": "markdown",
   "metadata": {
    "slideshow": {
     "slide_type": "subslide"
    }
   },
   "source": [
    "You have 2 options to manage your packages and virtual environment/s:\n",
    "\n",
    "1. using ```pip```. System that manages Python packages.\n",
    "2. using ```conda```. System that manages packages that may be written in any programming language. \n",
    "\n",
    "Since we will use Python packages, you can use either one of these systems to manage your virtual environment. Which one to use typically comes with your specific needs. I typically use ```conda``` and that would be sufficient for this course. \n",
    "\n",
    "To create and manage your **virtual environments**, here are good sources:\n",
    "\n",
    "* using ```conda``` to [manage virtual environments](https://docs.conda.io/projects/conda/en/latest/user-guide/tasks/manage-environments.html?highlight=environment#creating-an-environment-with-commands).\n",
    "* using ```pip``` to [manage virtual environments](https://packaging.python.org/guides/installing-using-pip-and-virtual-environments/)."
   ]
  },
  {
   "cell_type": "markdown",
   "metadata": {
    "cell_style": "center",
    "slideshow": {
     "slide_type": "subslide"
    }
   },
   "source": [
    "2. **Pattern Recognition and Machine Learning**\n",
    "\n",
    "* Author: Christopher Bishop\n",
    "* Edition: 1st\n",
    "* Publisher: Springer\n",
    "* Year: 2006\n",
    "* ISBN: 978-0-38731-073-2\n",
    "\n",
    "An **e-book version** will be cheaper and is perfectly fine for this course. The authors created an instructional digital version of the book and you can download it [here](https://www.microsoft.com/en-us/research/people/cmbishop/prml-book/)\n",
    "\n",
    "![BishopTextbook](https://images-na.ssl-images-amazon.com/images/I/61ECBlvkBCL._SX368_BO1,204,203,200_.jpg)"
   ]
  },
  {
   "cell_type": "markdown",
   "metadata": {
    "slideshow": {
     "slide_type": "subslide"
    }
   },
   "source": [
    "* Additional reading will be listed in our Canvas page\n",
    "* All extra reading materials will be pointed to **digitally-available** books posted on Course Reserves"
   ]
  },
  {
   "cell_type": "markdown",
   "metadata": {
    "slideshow": {
     "slide_type": "subslide"
    }
   },
   "source": [
    "## Course Schedule\n",
    "\n",
    "A complete course schedule can be found in our [Syllabus](https://ufl.instructure.com/courses/404363/files/folder/Syllabus?preview=51632038).\n",
    "\n",
    "#### Modules: \n",
    "1. **Introduction to Machine Learning, <font color=blue> week 1</font>**\n",
    "    * What is Machine Learning?\n",
    "    * Course description, expectations and logistics\n",
    "    * Discussion group project ground rules\n",
    "\n",
    "2. **Experimental Design and Analysis, <font color=blue> week 1-2</font>**\n",
    "    * Supervised Learning ML flowchart\n",
    "    * Experimental design\n",
    "    * Data pre-processing: feature engineering\n",
    "    * Reproducibility and validation\n",
    "    * Evaluation metrics\n",
    "\n",
    "3. **Generalization and Regularization, <font color=blue> week 2-3</font>**\n",
    "    * Linear Regression; polynomial curve fitting\n",
    "    * The bias-variance trade-off\n",
    "    * Generalization and regularization\n",
    "\n",
    "4. **Parameter Estimation and Generative Modeling, <font color=blue> week 3-4</font>**\n",
    "    * Parameter estimation\n",
    "    * Maximum Likelihood Estimation (MLE)\n",
    "    * Maximum A Posteriori (MAP)\n",
    "    * Conjugate priors\n",
    "    * Online prior update\n",
    "    * Probabilistic Generative Model; Naive Bayes Classifier\n",
    "    * Auto-Encoders\n",
    "    * Applications\n",
    "    \n",
    "5. **Unsupervised Learning: Clustering, <font color=blue> week 4-7</font>**\n",
    "    * Expectation-Maximization (EM) algorithm\n",
    "    * EM Optimization applications\n",
    "    * Gaussian Mixture Models, and applications\n",
    "    * Hierarchical models\n",
    "    * Latent Dirichlet Allocation\n",
    "    * Topic Modeling\n",
    "    * K-means algorithm\n",
    "    * k-nearest neighbors algorithm\n",
    "    * Cluster validity metrics\n",
    "\n",
    "**<font color=blue> Midterm Exam</font>**\n",
    "    \n",
    "6. **Supervised Learning: Discriminative Classification, <font color=blue> week 8-9</font>**\n",
    "    * Analogyzers brief history\n",
    "    * Discriminant functions\n",
    "    * Linear Discriminant functions\n",
    "    * The Perceptron\n",
    "    * Perceptron convergence theorem\n",
    "    * Kernel machines\n",
    "    * Support Vector Machines\n",
    "    \n",
    "7. **Dimensionality Reduction and Manifold Learning, <font color=blue> week 9-10</font>**\n",
    "    * Curse of Dimensionality\n",
    "    * Principal Component Analysis\n",
    "    * Manifold Learning\n",
    "    * Multi-Dimensional Scaling\n",
    "    * ISOMAP\n",
    "    * Locally Linear Embedding\n",
    "    \n",
    "8. **Deep Learning: Neural Networks and Application, <font color=blue> week 11-14</font>**\n",
    "    * Artificial Neural Networks brief history\n",
    "    * Multilayer Perceptron\n",
    "    * Backpropagation\n",
    "    * Best practices for training neural networks\n",
    "    * Auto-Encoders\n",
    "    * Variational Auto-Encoders\n",
    "    * Generative Adversarial Network\n",
    "    * Deep Learning\n",
    "    * Convolutional Neural Networks\n",
    "    * Discussion and comparing different neural network architectures\n",
    "    \n",
    "9. **ML Social Impact, <font color=blue> week 15</font>**\n",
    "    * Machine Learning ethics\n",
    "    * Building an AI system\n",
    "    \n",
    "**<font color=blue> Final Exam</font>**"
   ]
  },
  {
   "cell_type": "markdown",
   "metadata": {
    "slideshow": {
     "slide_type": "subslide"
    }
   },
   "source": [
    "<h2 align=\"center\">Have you heard of Zoom?</h2>\n",
    "\n",
    "\n",
    "![Zoom](https://cuit.columbia.edu/sites/default/files/styles/cu_crop/public/content/zoom-logo-transparent-6.png?itok=PJk3QEss)"
   ]
  },
  {
   "cell_type": "markdown",
   "metadata": {
    "slideshow": {
     "slide_type": "subslide"
    }
   },
   "source": [
    "## Zoom Settings and Expectations\n",
    "\n",
    "1. Choose to turn on your camera. It will help me *read your faces* and identify clarity issues. \n",
    "\n",
    "2. I will ask you to mute your microphones through the lesson unless you have a question/comment.\n",
    "\n",
    "3. Ask questions! To ask a question in class, either:\n",
    "    * Unmute your microphone and speak up\n",
    "    * Type your question in the chat box\n",
    "    * Raise your hand, using the *raise hand* feature (under center-low bar --> People --> Raise Hand)\n",
    "    \n",
    "4. All lectures will be **recorded** (audio and video). All videos will be available to you in our Canvas page under \"Zoom Conferences\" icon.\n",
    "    * Students who participate with their camera engaged or utilize a profile image are agreeing to have their video or image recorded. \n",
    "    * If you are unwilling to consent to have your profile or video image recorded, be sure to keep your camera off and do not use a profile image. \n",
    "    * Likewise, students who unmute during class and participate orally are agreeing to have their voices recorded. If you are not willing to consent to have your voice recorded during class, you will need to keep your mute button activated and communicate exclusively using the \"chat\" feature, which allows students to type questions and comments live. \n",
    "    * The chat will **not** be recorded or shared. As in all courses, unauthorized recording and unauthorized sharing of recorded materials is prohibited."
   ]
  },
  {
   "cell_type": "markdown",
   "metadata": {
    "slideshow": {
     "slide_type": "subslide"
    }
   },
   "source": [
    "## Course Homepage\n",
    "\n",
    "In this course we will use two main *households*:\n",
    "\n",
    "1. [Canvas page](https://ufl.instructure.com/courses/404363): I will post announcements, you will send/receive emails, participation assignments through discussion boards, question and answering on assignment issues through discussion boards.\n",
    "\n",
    "2. [GitHub Organization](https://github.com/Fundamentals-of-Machine-Learning-F20): I will post all lecture notes in this private organization. You will complete all assignments in a private repository and send its URL to Canvas as the assignment submission.\n",
    "    * In order to receive an invite to join the organization, join the GitHub Classroom first by accepting to create a [Short Assignment 0](https://ufl.instructure.com/courses/404363/assignments/4331446) repository.\n",
    "    * **Clone (at least) the \"Lectures\" repository to your local machine and pull from that repository before class**\n",
    "    * Be sure to [download Git](https://git-scm.com/downloads)\n",
    "    * Complete one (or a few) introductory tutorials:\n",
    "        * Git bootcamp: https://help.github.com/categories/bootcamp/\n",
    "        * Tutorials: https://www.atlassian.com/git/tutorials/\n",
    "        * Interactive Introduction: https://try.github.io/"
   ]
  },
  {
   "cell_type": "markdown",
   "metadata": {
    "slideshow": {
     "slide_type": "subslide"
    }
   },
   "source": [
    "## Course Policies\n",
    "\n",
    "Please read the syllabus carefully.\n",
    "\n",
    "1. **How to get help:** Other than office hours, you can contact me via email (via Canvas or using my email address), call me on my cellphone, or use the Slack channel to communicate with your classmates.\n",
    "    * Slack channel: https://join.slack.com/t/uf-eee4773-fall2020/shared_invite/zt-guzrznyp-iciQQhraxlTbp8koneNeaw\n",
    "    \n",
    "2. **Attendance:** I expect students to attend class, and graded evaluations (participation, in-class assignments) will be given during class. If you are living in a different time zone or have anticipate any issues with e.g. internet connection, schedule conflict, etc., please email me so I'm informed and will not *penalize* participation points.\n",
    "\n",
    "3. **Grading:** make sure you submissions are carefully completed with clean and well documented code. Make full use of Jupyter features, such as markdown cells. Individual assignments will **not** be curved. Final grades **will** be curved.\n",
    "\n",
    "4. **Late Work:** I will accept all assignment submissions as long as solutions have not yet been released, but you will lose the **on-time** points listed in the rubric. Solutions will typically be released up to 1 week after the assignment is due.\n",
    "\n",
    "5. **Make-Up Policy:** If you feel that any assignment needs to be re-graded, you must discuss this with me within 1 week of grades being posted. If approved, the entire assignment will be subject to complete evaluation. Excused absences must be consistent with university policies in the [undergraduate catalog](https://catalog.ufl.edu/ugrad/current/regulations/info/attendance.aspx) and require appropriate documentation\n",
    "\n",
    "6. **Collaboration:** healthy collaboration is encouraged. If another student contributes substantially to your understanding of a problem, you should cite this student. You will not be negatively judged for citing another student.\n",
    "\n",
    "7. **Cheating and Plagiarism:** you are expected to submit your own work. If you are suspected of dishonest academic activity, I will invite you to discuss it further in private. Academic dishonesty will likely result in grade reduction, with severity depending on the nature of the dishonest activity. I am obligated to report on academic misconduct with a letter to the department, college and/or university leadership. Repeat offenses will be treated with significantly greater severity."
   ]
  },
  {
   "cell_type": "markdown",
   "metadata": {
    "slideshow": {
     "slide_type": "subslide"
    }
   },
   "source": [
    "## Grading\n",
    "\n",
    "Grading will be based on: \n",
    "\n",
    "|Assignment|Total|Percentage Final Grade|\n",
    "|---|---|---|\n",
    "| Exams | 2 | 20% each|\n",
    "| Homework | ~ 5 | 20%|\n",
    "| Short Assignments | ~ 12 | 10% |\n",
    "| Participation | ~10 + in-class | 10%|\n",
    "| Final Project | 1 (group project) | 20%|\n",
    "\n",
    "**Homeworks** will have 2 parts: (1) analytical exercises, typically solved on paper. (2) practical problems to be implemented in Python.\n",
    "\n",
    "**Exams** will be drawn from lectures and readings. Practice exams will be provided. Exams are conducted via Honorlock.\n",
    "\n",
    "**Short Assignments** will typically consists of short problems to help consolidate and retain the information learned in class.\n",
    "\n",
    "**Participation** will be in the form of discussion boards participation **and** in-class participation (attending class also counts as participation)\n",
    "\n",
    "**Final Project** is a group assignment. The objective of this project is to implement an end-to-end Machine Learning/Deep Learning model using a data set collected from students in the class. The outcomes of the final project include working code and a report.\n",
    "* This semester, the final project will be on: **Speech Emotion Recognition**. This is a state-of-the-art problem being researched in the area of Human-AI interaction."
   ]
  },
  {
   "cell_type": "markdown",
   "metadata": {
    "slideshow": {
     "slide_type": "subslide"
    }
   },
   "source": [
    "### Honorlock\n",
    "\n",
    "The midterm and final exams will be conducted via **Honorlock**. \n",
    "\n",
    "Honorlock is an online proctoring platform. Be sure to read the syllabus to find out what you will need to take an exam with Honorlock."
   ]
  },
  {
   "cell_type": "markdown",
   "metadata": {
    "slideshow": {
     "slide_type": "subslide"
    }
   },
   "source": [
    "**<h2 align=\"center\"><font color=orange> Mark your calendars!</font></h2>**\n",
    "\n",
    "* **<font color=blue> Midterm Exam Date: Thursday, October 15</font>** \n",
    "\n",
    "Use Canvas to select all time slots that work for you: [Canvas Survey](https://ufl.instructure.com/courses/404363/quizzes/883740)\n",
    "\n",
    "* **<font color=blue> Final Project due: Wednesday, December 9 @ 11:59 PM</font>**\n",
    "\n",
    "* **<font color=blue> Final Exam Date (scheduled): Friday, December 18 @ 12:30 PM - 2:30 PM</font>**"
   ]
  },
  {
   "cell_type": "markdown",
   "metadata": {
    "slideshow": {
     "slide_type": "subslide"
    }
   },
   "source": [
    "#### Grading Scale\n",
    "\n",
    "|Percent|Grade|Grade Points|\n",
    "|--|--|--|\n",
    "|93.4 - 100| A | 4.00|\n",
    "|90.0 - 93.3| A-|3.67|\n",
    "|86.7 - 89.9| B+|3.33|\n",
    "|83.4 - 86.6| B |3.00|\n",
    "|80.0 - 83.3| B- |2.67|\n",
    "|76.7 - 79.9| C+ |2.33|\n",
    "|73.4 - 76.6| C |2.00|\n",
    "|70.0 - 73.3| C- |1.67|\n",
    "|66.7 - 69.9| D+ |1.33|\n",
    "|63.4 - 66.6| D |1.00|\n",
    "|60.0 - 63.3| D- |0.67|\n",
    "|0 - 59.9| E |0.00|"
   ]
  },
  {
   "cell_type": "markdown",
   "metadata": {
    "slideshow": {
     "slide_type": "subslide"
    }
   },
   "source": [
    "## Students Requiring Accommodations\n",
    "\n",
    "Students with disabilities who experience learning barriers and would like to request academic accommodations should connect with the disability Resource Center by visiting https://disability.ufl.edu/students/get-started/. \n",
    "\n",
    "* Please make sure you share your accommodation letter with me as soon as you have it, so we can discuss your access needs."
   ]
  },
  {
   "cell_type": "markdown",
   "metadata": {
    "slideshow": {
     "slide_type": "subslide"
    }
   },
   "source": [
    "## Course Evaluations\n",
    "\n",
    "You are expected to provide professional and respectful feedback on the quality of instruction in this course by completing the course evaluations online via GatorEvals.\n",
    "\n",
    "* The University is using a relatively new evaluation system, and evaluation results are now publicly available here: https://gatorevals.aa.ufl.edu/public-results/\n",
    "\n",
    "* Guidance on how to give feedback in a professional and respectful manner is available at https://gatorevals.aa.ufl.edu/students/. \n",
    "\n",
    "* You will be notified when the evaluation period opens, and can complete evaluations through the email you receive from GatorEvals, in the Canvas course menu under GatorEvals, or via https://ufl.bluera.com/ufl/."
   ]
  },
  {
   "cell_type": "markdown",
   "metadata": {
    "slideshow": {
     "slide_type": "subslide"
    }
   },
   "source": [
    "## University Honesty Policy\n",
    "\n",
    "All UF students are bound by The Honor Pledge which states:\n",
    "\n",
    "<h5 align=\"center\">We, the members of the University of Florida community, pledge to hold ourselves and our peers to the highest standards of honor and integrity by abiding by the Honor Code. On all work submitted for credit by students at the University of Florida, the following pledge is either required or implied: \"On my honor, I have neither given nor received unauthorized aid in doing this assignment.\"</h5>\n",
    "\n",
    "The [Honor Code](https://sccr.dso.ufl.edu/policies/student-honor-code-student-conduct-code/) specifies a number of behaviors that are in violation of this code and the possible sanctions. Furthermore, you are obligated to report any condition that facilitates academic misconduct to appropriate personnel. If you have any questions or concerns, please consult with the instructor or TAs in this class."
   ]
  },
  {
   "cell_type": "markdown",
   "metadata": {
    "slideshow": {
     "slide_type": "subslide"
    }
   },
   "source": [
    "## Commitment to a Safe and Inclusive Learning Environment\n",
    "\n",
    "The Herbert Wertheim College of Engineering values broad diversity within our community and is committed to individual and group empowerment, inclusion, and the elimination of discrimination.  It is expected that every person in this class will treat one another with dignity and respect regardless of gender, sexuality, disability, age, socioeconomic status, ethnicity, race, and culture.\n",
    "\n",
    "If you feel like your performance in class is being impacted by discrimination or harassment of any kind, please contact your instructor or any of the following:\n",
    "\n",
    "* Your academic advisor or Graduate Program Coordinator\n",
    "* Robin Bielling, Director of Human Resources, 352-392-0903, rbielling@eng.ufl.edu\n",
    "* Curtis Taylor, Associate Dean of Student Affairs, 352-392-2177, taylor@eng.ufl.edu\n",
    "* Toshikazu Nishida, Associate Dean of Academic Affairs, 352-392-0943, nishida@eng.ufl.edu\n",
    "\n",
    "**Software Use**\n",
    "\n",
    "All faculty, staff, and students of the University are required and expected to obey the laws and legal agreements governing software use.  Failure to do so can lead to monetary damages and/or criminal penalties for the individual violator.  Because such violations are also against University policies and rules, disciplinary action will be taken as appropriate.  We, the members of the University of Florida community, pledge to uphold ourselves and our peers to the highest standards of honesty and integrity.\n",
    "\n",
    "**Student Privacy**\n",
    "\n",
    "There are federal laws protecting your privacy with regards to grades earned in courses and on individual assignments.  For more information, please see:  https://registrar.ufl.edu/ferpa.html\n",
    "\n"
   ]
  },
  {
   "cell_type": "markdown",
   "metadata": {
    "slideshow": {
     "slide_type": "subslide"
    }
   },
   "source": [
    "## Health and Wellness\n",
    "\n",
    "**U Matter, We Care:**\n",
    "\n",
    "Your well-being is important to the University of Florida.  The U Matter, We Care initiative is committed to creating a culture of care on our campus by encouraging members of our community to look out for one another and to reach out for help if a member of our community is in need.  If you or a friend is in distress, please contact umatter@ufl.edu so that the U Matter, We Care Team can reach out to the student in distress.  A nighttime and weekend crisis counselor is available by phone at 352-392-1575.  The U Matter, We Care Team can help connect students to the many other helping resources available including, but not limited to, Victim Advocates, Housing staff, and the Counseling and Wellness Center.  Please remember that asking for help is a sign of strength.  In case of emergency, call 9-1-1.\n",
    "\n",
    "**Counseling and Wellness Center:** http://www.counseling.ufl.edu/cwc, and  392-1575; and the University Police Department: 392-1111 or 9-1-1 for emergencies. \n",
    "\n",
    "**Sexual Discrimination, Harassment, Assault, or Violence**\n",
    "If you or a friend has been subjected to sexual discrimination, sexual harassment, sexual assault, or violence contact the Office of Title IX Compliance, located at Yon Hall Room 427, 1908 Stadium Road, (352) 273-1094, title-ix@ufl.edu\n",
    "\n",
    "**Sexual Assault Recovery Services (SARS)**, Student Health Care Center, 392-1161. \n",
    "\n",
    "**University Police Department** at 392-1111 (or 9-1-1 for emergencies), or http://www.police.ufl.edu/. \n"
   ]
  },
  {
   "cell_type": "markdown",
   "metadata": {
    "slideshow": {
     "slide_type": "subslide"
    }
   },
   "source": [
    "## Academic Resources\n",
    "\n",
    "**E-learning technical support**, 352-392-4357 (select option 2) or e-mail to Learning-support@ufl.edu. https://lss.at.ufl.edu/help.shtml.\n",
    "\n",
    "**Career Resource Center**, Reitz Union, 392-1601.  Career assistance and counseling. https://www.crc.ufl.edu/.\n",
    "\n",
    "**Library Support**, http://cms.uflib.ufl.edu/ask. Various ways to receive assistance with respect to using the libraries or finding resources.\n",
    "\n",
    "**Teaching Center**, Broward Hall, 392-2010 or 392-6420. General study skills and tutoring. https://teachingcenter.ufl.edu/.\n",
    "\n",
    "**Writing Studio, 302 Tigert Hall**, 846-1138. Help brainstorming, formatting, and writing papers. https://writing.ufl.edu/writing-studio/.\n",
    "\n",
    "**Student Complaints Campus:** https://care.dso.ufl.edu.\n",
    "\n",
    "**On-Line Students Complaints:** http://www.distance.ufl.edu/student-complaint-process."
   ]
  },
  {
   "cell_type": "markdown",
   "metadata": {
    "slideshow": {
     "slide_type": "subslide"
    }
   },
   "source": [
    "**<h1 align=\"center\">Any Questions?</h1>**"
   ]
  },
  {
   "cell_type": "markdown",
   "metadata": {
    "slideshow": {
     "slide_type": "subslide"
    }
   },
   "source": [
    "## Git Demonstration\n",
    "\n",
    "To get familiar with Git, the best thing to do is *practice*!\n",
    "\n",
    "For beginner Git users, I recommend you to watch one or a few Git tutorials:\n",
    "* Git bootcamp: https://help.github.com/categories/bootcamp/ (Links to an external site.)\n",
    "* Tutorials: https://www.atlassian.com/git/tutorials/ (Links to an external site.)\n",
    "* Interactive Introduction: https://try.github.io/"
   ]
  },
  {
   "cell_type": "markdown",
   "metadata": {
    "slideshow": {
     "slide_type": "subslide"
    }
   },
   "source": [
    "### How to ```clone``` a repository\n",
    "\n",
    "You can use **Git Bash** to clone a repo or use GitHub Desktop. **I will demonstrate how to do it using GitHub Desktop.**\n",
    "\n",
    "Let's open our organization: https://github.com/Fundamentals-of-Machine-Learning-F20"
   ]
  },
  {
   "cell_type": "markdown",
   "metadata": {
    "slideshow": {
     "slide_type": "subslide"
    }
   },
   "source": [
    "### Getting the latest edits from a repository - use ```git pull```\n",
    "\n",
    "To ```pull``` from a repository, simply call ```git pull``` using Git Bash."
   ]
  },
  {
   "cell_type": "markdown",
   "metadata": {
    "slideshow": {
     "slide_type": "subslide"
    }
   },
   "source": [
    "### How to manage files within a repo\n",
    "\n",
    "The 3 most used Git commands are: ```git pull```, ```git add```, ```git commit``` and ```git push```. You can call these commands directly on the **Git Bash** console within the cloned repository on your machine.\n",
    "\n",
    "**I will now demonstrate how I ```push``` this Notebook to the \"Lectures\" repository.**"
   ]
  },
  {
   "cell_type": "markdown",
   "metadata": {
    "slideshow": {
     "slide_type": "subslide"
    }
   },
   "source": [
    "# To prepare for next class\n",
    "\n",
    "1. Install or upgrade [Anaconda](https://www.anaconda.com/products/individual)\n",
    "2. Install [Git](https://git-scm.com/downloads)\n",
    "3. For beginner Git users, I recommend you to install [GitHub Desktop](https://desktop.github.com/)\n",
    "4. Watch the **\"Introduction to programming with Python\" video** I have uploaded to Canvas and follow along with the Jupyter Notebook I provided.\n",
    "5. Review the **pre-requisite notes** I also uploaded to Canvas.\n",
    "6. Take a look at the **Modules** page in Canvas and get familiar with a typical lecture layout: it includes readings and activities to help you study.\n",
    "7. Create [Short Assignment 0](https://ufl.instructure.com/courses/404363/assignments/4331446?module_item_id=8065058) repository. You will become a collaborator to the organization and I will send you an invitation to become a member and have full access to the lectures notes and other repositories.\n",
    "    * You will **not** be able to see each other private assignment repositories.\n",
    "    * Our organization is also **private**."
   ]
  },
  {
   "cell_type": "markdown",
   "metadata": {
    "slideshow": {
     "slide_type": "subslide"
    }
   },
   "source": [
    "**<h1 align=\"center\">Any Questions?</h1>**\n",
    "\n",
    "Feel free to email me afterwards or come talk with me during office hours: TR 3-4 PM."
   ]
  },
  {
   "cell_type": "code",
   "execution_count": null,
   "metadata": {},
   "outputs": [],
   "source": []
  }
 ],
 "metadata": {
  "celltoolbar": "Slideshow",
  "kernelspec": {
   "display_name": "Python 3",
   "language": "python",
   "name": "python3"
  },
  "language_info": {
   "codemirror_mode": {
    "name": "ipython",
    "version": 3
   },
   "file_extension": ".py",
   "mimetype": "text/x-python",
   "name": "python",
   "nbconvert_exporter": "python",
   "pygments_lexer": "ipython3",
   "version": "3.7.7"
  },
  "latex_envs": {
   "LaTeX_envs_menu_present": true,
   "autoclose": false,
   "autocomplete": true,
   "bibliofile": "biblio.bib",
   "cite_by": "apalike",
   "current_citInitial": 1,
   "eqLabelWithNumbers": true,
   "eqNumInitial": 1,
   "hotkeys": {
    "equation": "Ctrl-E",
    "itemize": "Ctrl-I"
   },
   "labels_anchors": false,
   "latex_user_defs": false,
   "report_style_numbering": false,
   "user_envs_cfg": false
  },
  "varInspector": {
   "cols": {
    "lenName": 16,
    "lenType": 16,
    "lenVar": 40
   },
   "kernels_config": {
    "python": {
     "delete_cmd_postfix": "",
     "delete_cmd_prefix": "del ",
     "library": "var_list.py",
     "varRefreshCmd": "print(var_dic_list())"
    },
    "r": {
     "delete_cmd_postfix": ") ",
     "delete_cmd_prefix": "rm(",
     "library": "var_list.r",
     "varRefreshCmd": "cat(var_dic_list()) "
    }
   },
   "types_to_exclude": [
    "module",
    "function",
    "builtin_function_or_method",
    "instance",
    "_Feature"
   ],
   "window_display": false
  }
 },
 "nbformat": 4,
 "nbformat_minor": 4
}
